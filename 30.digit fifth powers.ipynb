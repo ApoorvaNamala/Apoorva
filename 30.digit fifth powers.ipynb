{
 "cells": [
  {
   "cell_type": "code",
   "execution_count": 63,
   "metadata": {},
   "outputs": [],
   "source": [
    "def Digits(n):\n",
    "    digits = [int(i) for i in str(n)]\n",
    "    return(digits)\n"
   ]
  },
  {
   "cell_type": "code",
   "execution_count": 64,
   "metadata": {},
   "outputs": [],
   "source": [
    "\n",
    "def Fifth_power(digits):\n",
    "    powers = [(i ** 5) for i in digits]\n",
    "    return(powers)\n"
   ]
  },
  {
   "cell_type": "code",
   "execution_count": 65,
   "metadata": {},
   "outputs": [],
   "source": [
    "def sum_of_powers(powers):\n",
    "    sum = 0\n",
    "    for i in powers:\n",
    "        sum = sum + i\n",
    "    return(sum)\n"
   ]
  },
  {
   "cell_type": "code",
   "execution_count": 66,
   "metadata": {},
   "outputs": [],
   "source": [
    "#define upper bound.to get the upper bound we have to multiply a number with 5th power of 9.\n",
    "#if we multiply with 5 we get 295245.with 6 gives 354294.it is likely to take 355000.\n",
    "#we can iterate the loop upto 354294 also.we get the same result."
   ]
  },
  {
   "cell_type": "code",
   "execution_count": 67,
   "metadata": {},
   "outputs": [
    {
     "name": "stdout",
     "output_type": "stream",
     "text": [
      "443839\n"
     ]
    }
   ],
   "source": [
    "result = 0\n",
    "for i in range(1, 355000):\n",
    "    if sum_of_powers(Fifth_power(Digits(i))) == i:\n",
    "                     result +=  i\n",
    "#result-1 because fifth power of 1 is 1.but it is not a sum. \n",
    "print(result - 1)"
   ]
  },
  {
   "cell_type": "code",
   "execution_count": null,
   "metadata": {},
   "outputs": [],
   "source": []
  }
 ],
 "metadata": {
  "kernelspec": {
   "display_name": "Python 3",
   "language": "python",
   "name": "python3"
  },
  "language_info": {
   "codemirror_mode": {
    "name": "ipython",
    "version": 3
   },
   "file_extension": ".py",
   "mimetype": "text/x-python",
   "name": "python",
   "nbconvert_exporter": "python",
   "pygments_lexer": "ipython3",
   "version": "3.6.5"
  }
 },
 "nbformat": 4,
 "nbformat_minor": 2
}
